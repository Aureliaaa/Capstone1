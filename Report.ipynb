{
 "cells": [
  {
   "cell_type": "markdown",
   "metadata": {},
   "source": [
    "# Capstone Project - The Battle of the Neighbourhoods\n",
    "### Applied Data Science Capstone by IBM/Coursera"
   ]
  },
  {
   "cell_type": "markdown",
   "metadata": {},
   "source": [
    "## Table of contents\n",
    "1. [Introduction: Business Problem](#introduction)\n",
    "2. [Data](#data)\n",
    "3. [Methodology](#methodology)\n",
    "4. [Results](#results)\n",
    "5. [Discussion and Conclusion](#conclusion)"
   ]
  },
  {
   "cell_type": "markdown",
   "metadata": {},
   "source": [
    "\n",
    "\n",
    "## 1. Introduction: Business Problem <a name=\"introduction\"></a>"
   ]
  },
  {
   "cell_type": "markdown",
   "metadata": {},
   "source": [
    "The objective of this project is to compare the neighbourhoods of two major cities: **London, the UK** and **Toronto, Canada**. In this project, I will focus on downtown Toronto and the western central London. By exploring the most common venues in each neighbourhood, I am trying to identify **the differences between the European and North American cities**, which may reflect *different city designs, lifestyles and cultures.*\n",
    "\n",
    "This project might be interesting for:\n",
    "* Students who want to study abroad in either North America or Europe\n",
    "* Adults who are considering working abroad\n",
    "* Travellers who are looking for their next destinations\n",
    "* Researchers in the field of urban studies/human geography"
   ]
  },
  {
   "cell_type": "markdown",
   "metadata": {},
   "source": [
    "## 2. Data <a name=\"data\"></a>"
   ]
  },
  {
   "cell_type": "markdown",
   "metadata": {},
   "source": [
    "I will use the following datasets to collect the information needed for this project.\n",
    "\n",
    "\n",
    "* The postal codes of western central London will be obtained from https://en.wikipedia.org/wiki/WC_postcode_area.\n",
    "* The postal codes of downtown Toronto will be obtained from https://en.wikipedia.org/wiki/List_of_postal_codes_of_Canada:_M.\n",
    "* The geographical coordinates of each neighbourhood will be obtained using **Python Geocoder package**.\n",
    "* The types and locations of venues in each neighborhood will be obtained using **Foursquare API**."
   ]
  },
  {
   "cell_type": "markdown",
   "metadata": {},
   "source": [
    "Below is the cleaned dataset of the central London."
   ]
  },
  {
   "cell_type": "markdown",
   "metadata": {},
   "source": [
    "![title](london.png)"
   ]
  },
  {
   "cell_type": "markdown",
   "metadata": {},
   "source": [
    "Below is the cleaned dataset of downtown Toronto."
   ]
  },
  {
   "cell_type": "markdown",
   "metadata": {},
   "source": [
    "![title](toronto.png)"
   ]
  },
  {
   "cell_type": "markdown",
   "metadata": {},
   "source": [
    "## 3. Methodology <a name=\"methodology\"></a>"
   ]
  },
  {
   "cell_type": "markdown",
   "metadata": {},
   "source": [
    "After cleaning the data, I will first visualize all neighourhoods in the central London (using **folium map**) to take a closer look at their locations. \n",
    "\n",
    "Using the **Foursquare API**, I will then explore the top 100 venues that are in each neighbourhood within a radius of 500 meters. The coordinate and category of each venue is recorded in a dataset called ***london_venues***. \n",
    "\n",
    "By calculating the average frequency of occurrence of each category, I will identify the top 10 most common venues in each neighborhood, which are recorded in a dataset called ***london_neighborhoods_venues_sorted***.\n",
    "\n",
    "Next, I will employ a machine learning algorithm called **K Means Clustering** to separate the neighbourhoods into three clusters, and visualize them on the map. I will then label each cluster based on its most common venues.\n",
    "\n",
    "The same analysis will be performed on the dataset of downtown toronto to cluster its neighourhoods.\n",
    "\n",
    "Finally, I will compare the neighbourhood clusters in these two cities, identify and discuss any difference/similarity."
   ]
  },
  {
   "cell_type": "markdown",
   "metadata": {},
   "source": [
    "## 4. Results <a name=\"results\"></a>"
   ]
  },
  {
   "cell_type": "markdown",
   "metadata": {},
   "source": [
    "Below are the top 10 most common venues in each neighbourhood in the central London."
   ]
  },
  {
   "cell_type": "markdown",
   "metadata": {},
   "source": [
    "![title](lo_venues.png)"
   ]
  },
  {
   "cell_type": "markdown",
   "metadata": {},
   "source": [
    "I categorized London neighbourhoods into 3 clusters."
   ]
  },
  {
   "cell_type": "markdown",
   "metadata": {},
   "source": [
    "![title](lo_clusters.png)"
   ]
  },
  {
   "cell_type": "markdown",
   "metadata": {},
   "source": [
    "Below are the top 10 most common venues in each neighbourhood in downtown Toronto."
   ]
  },
  {
   "cell_type": "markdown",
   "metadata": {},
   "source": [
    "![title](to1.png)"
   ]
  },
  {
   "cell_type": "markdown",
   "metadata": {},
   "source": [
    "![title](to2.png)"
   ]
  },
  {
   "cell_type": "markdown",
   "metadata": {},
   "source": [
    "![title](to3.png)"
   ]
  },
  {
   "cell_type": "markdown",
   "metadata": {},
   "source": [
    "![title](to4.png)"
   ]
  },
  {
   "cell_type": "markdown",
   "metadata": {},
   "source": [
    "I categorized Toronto neighbourhoods into 6 clusters."
   ]
  },
  {
   "cell_type": "markdown",
   "metadata": {},
   "source": [
    "![title](to_clusters.png)"
   ]
  },
  {
   "cell_type": "markdown",
   "metadata": {},
   "source": [
    "Below is a table summarizing the categories of 3 clusters in London and 6 clusters in Toronto."
   ]
  },
  {
   "cell_type": "markdown",
   "metadata": {},
   "source": [
    "![title](result.png)"
   ]
  },
  {
   "cell_type": "markdown",
   "metadata": {},
   "source": [
    "## 5. Discussion and Conclusion <a name=\"conclusion\"></a>"
   ]
  },
  {
   "cell_type": "markdown",
   "metadata": {},
   "source": [
    "The clustering result reveals that London and Toronto are very similar based on the most common venues in their neighbourhoods. \n",
    "\n",
    "Both cities have a lot of coffee shops, which is probably true in most western countries. Also, both cities have a wide variety of restaurants, ranging from Italian and French to Japanese and Chinese restaurants. This reflects the fact that both cities are culturally diverse. Different cultures are celebrated and embraced in both cities. Therefore, if you are considering studying or working abroad in either London or Toronto, you may not worry too much about the cultural issues. It is very likely that you will find some signs of your own culture, such as a restaurant which provides food from your hometown. \n",
    "\n",
    "However, there does exist some differences between London and Toronto. \n",
    "\n",
    "First, Toronto tends to have more parks than London does. This is a very positive sign, especially for a large crowded city like Toronto. If you are thinking about living abroad for a long period of time, the living environment is an important factor to consider.\n",
    "\n",
    "Second, London tends to have more theatres, exhibits and bookstores than Toronto does. As we all know, London is famous for its rich history, cultures and arts, so I am not surprised to discover this difference. For people who are interested in history or arts, London is an ideal place to experience and learn the European culture. \n",
    "\n",
    "With increasing globalization, major cities around the world tend to become more similar in terms of city designs. However, they still have unique history backgrounds and cultures, which make them different from each other to some extent. For researchers in the field of urban studies, I hope this project can provide you with additional insights into the difference between the European and North American cities. "
   ]
  },
  {
   "cell_type": "code",
   "execution_count": null,
   "metadata": {},
   "outputs": [],
   "source": []
  }
 ],
 "metadata": {
  "kernelspec": {
   "display_name": "Python 3",
   "language": "python",
   "name": "python3"
  },
  "language_info": {
   "codemirror_mode": {
    "name": "ipython",
    "version": 3
   },
   "file_extension": ".py",
   "mimetype": "text/x-python",
   "name": "python",
   "nbconvert_exporter": "python",
   "pygments_lexer": "ipython3",
   "version": "3.6.8"
  }
 },
 "nbformat": 4,
 "nbformat_minor": 2
}
