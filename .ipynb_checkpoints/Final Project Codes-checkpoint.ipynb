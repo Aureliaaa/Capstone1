{
 "cells": [
  {
   "cell_type": "markdown",
   "metadata": {},
   "source": [
    "# Capstone Project - The Battle of the Neighborhoods\n",
    "### Applied Data Science Capstone by IBM/Coursera"
   ]
  },
  {
   "cell_type": "markdown",
   "metadata": {},
   "source": [
    "## Table of contents\n",
    "1. [Introduction: Business Problem](#introduction)\n",
    "2. [Data](#data)\n",
    "3. [Methodology](#methodology)\n",
    "4. [Results](#results)\n",
    "5. [Discussion and Conclusion](#conclusion)"
   ]
  },
  {
   "cell_type": "markdown",
   "metadata": {},
   "source": [
    "\n",
    "\n",
    "## 1. Introduction: Business Problem <a name=\"introduction\"></a>"
   ]
  },
  {
   "cell_type": "markdown",
   "metadata": {},
   "source": [
    "The objective of this project is to compare the neighbourhoods of two major cities: **London, the UK** and **Toronto, Canada**. In this project, I will focus on downtown Toronto and the western central London. By exploring the most common venues in each neighbourhood, I am trying to identify **the differences between the European and North American cities**, which may reflect *different city designs, lifestyles and cultures.*\n",
    "\n",
    "This project might be interesting for:\n",
    "* Students who want to study abroad in either North America or Europe\n",
    "* Adults who are considering working abroad\n",
    "* Travellers who are looking for their next destinations\n",
    "* Researchers in the field of urban studies/human geography"
   ]
  },
  {
   "cell_type": "markdown",
   "metadata": {},
   "source": [
    "## 2. Data <a name=\"data\"></a>"
   ]
  },
  {
   "cell_type": "markdown",
   "metadata": {},
   "source": [
    "I will use the following datasets to collect the information needed for this project.\n",
    "\n",
    "\n",
    "* The postal codes of western central London will be obtained from https://en.wikipedia.org/wiki/WC_postcode_area.\n",
    "* The postal codes of downtown Toronto will be obtained from https://en.wikipedia.org/wiki/List_of_postal_codes_of_Canada:_M.\n",
    "* The geographical coordinates of each neighbourhood will be obtained using **Python Geocoder package**.\n",
    "* The types and locations of venues in each neighborhood will be obtained using **Foursquare API**."
   ]
  },
  {
   "cell_type": "markdown",
   "metadata": {},
   "source": [
    "### 2.1. Gather the postal codes of western central London"
   ]
  },
  {
   "cell_type": "code",
   "execution_count": 1,
   "metadata": {},
   "outputs": [],
   "source": [
    "import pandas as pd\n",
    "from bs4 import BeautifulSoup\n",
    "import requests"
   ]
  },
  {
   "cell_type": "code",
   "execution_count": 2,
   "metadata": {},
   "outputs": [],
   "source": [
    "# Scrape the wikipedia page\n",
    "source1 = requests.get('https://en.wikipedia.org/wiki/WC_postcode_area').text\n",
    "soup1 = BeautifulSoup(source1,'lxml')\n",
    "\n",
    "table1 = soup1.find('table',{'class':'wikitable sortable'})"
   ]
  },
  {
   "cell_type": "code",
   "execution_count": 3,
   "metadata": {},
   "outputs": [
    {
     "data": {
      "text/html": [
       "<div>\n",
       "<style scoped>\n",
       "    .dataframe tbody tr th:only-of-type {\n",
       "        vertical-align: middle;\n",
       "    }\n",
       "\n",
       "    .dataframe tbody tr th {\n",
       "        vertical-align: top;\n",
       "    }\n",
       "\n",
       "    .dataframe thead th {\n",
       "        text-align: right;\n",
       "    }\n",
       "</style>\n",
       "<table border=\"1\" class=\"dataframe\">\n",
       "  <thead>\n",
       "    <tr style=\"text-align: right;\">\n",
       "      <th></th>\n",
       "      <th>PostalCode</th>\n",
       "      <th>PostTown</th>\n",
       "      <th>Neighbourhood</th>\n",
       "    </tr>\n",
       "  </thead>\n",
       "  <tbody>\n",
       "    <tr>\n",
       "      <th>0</th>\n",
       "      <td>WC1A</td>\n",
       "      <td>LONDON</td>\n",
       "      <td>New Oxford Street</td>\n",
       "    </tr>\n",
       "    <tr>\n",
       "      <th>1</th>\n",
       "      <td>WC1B</td>\n",
       "      <td>LONDON</td>\n",
       "      <td>Bloomsbury</td>\n",
       "    </tr>\n",
       "    <tr>\n",
       "      <th>2</th>\n",
       "      <td>WC1E</td>\n",
       "      <td>LONDON</td>\n",
       "      <td>University College London</td>\n",
       "    </tr>\n",
       "    <tr>\n",
       "      <th>3</th>\n",
       "      <td>WC1H</td>\n",
       "      <td>LONDON</td>\n",
       "      <td>St Pancras</td>\n",
       "    </tr>\n",
       "    <tr>\n",
       "      <th>4</th>\n",
       "      <td>WC1N</td>\n",
       "      <td>LONDON</td>\n",
       "      <td>Russell Square</td>\n",
       "    </tr>\n",
       "  </tbody>\n",
       "</table>\n",
       "</div>"
      ],
      "text/plain": [
       "  PostalCode PostTown              Neighbourhood\n",
       "0      WC1A\n",
       "  LONDON\n",
       "          New Oxford Street\n",
       "1      WC1B\n",
       "  LONDON\n",
       "                 Bloomsbury\n",
       "2      WC1E\n",
       "  LONDON\n",
       "  University College London\n",
       "3      WC1H\n",
       "  LONDON\n",
       "                 St Pancras\n",
       "4      WC1N\n",
       "  LONDON\n",
       "             Russell Square"
      ]
     },
     "execution_count": 3,
     "metadata": {},
     "output_type": "execute_result"
    }
   ],
   "source": [
    "# Iteration: loop through the rows to get the data\n",
    "PostalCode =[]\n",
    "PostTown = []\n",
    "Neighbourhood = []\n",
    "\n",
    "for row in table1.findAll(\"tr\"):\n",
    "    cells = row.findAll(\"th\")\n",
    "    if len(cells) == 1:\n",
    "        PostalCode.append(cells[0].find(text=True))\n",
    "    \n",
    "    cells = row.findAll(\"td\")\n",
    "    if len(cells) == 3: \n",
    "        PostTown.append(cells[0].find(text=True))\n",
    "        Neighbourhood.append(cells[1].find(text=True))\n",
    "\n",
    "london = pd.DataFrame(PostalCode, columns = ['PostalCode'])\n",
    "london['PostTown'] = PostTown\n",
    "london['Neighbourhood'] = Neighbourhood\n",
    "london.head()"
   ]
  },
  {
   "cell_type": "code",
   "execution_count": 4,
   "metadata": {},
   "outputs": [],
   "source": [
    "# Change 'Kings Cross'to 'Kings Cross Station' for clarity\n",
    "london['Neighbourhood'] = london['Neighbourhood'].replace('Kings Cross','Kings Cross Station')"
   ]
  },
  {
   "cell_type": "markdown",
   "metadata": {},
   "source": [
    "### 2.2 Get the latitudes and longitudes for each neighbourhood in western central London"
   ]
  },
  {
   "cell_type": "code",
   "execution_count": null,
   "metadata": {},
   "outputs": [],
   "source": [
    "from geopy.geocoders import Nominatim"
   ]
  },
  {
   "cell_type": "code",
   "execution_count": null,
   "metadata": {},
   "outputs": [],
   "source": [
    "Latitude = []\n",
    "Longitude = []\n",
    "\n",
    "for i in london['Neighbourhood']:\n",
    "    geolocator = Nominatim(user_agent=\"ld_explorer\")\n",
    "    location = geolocator.geocode(i)\n",
    "    \n",
    "    latitude = location.latitude\n",
    "    Latitude.append(latitude)\n",
    "    \n",
    "    longitude = location.longitude\n",
    "    Longitude.append(longitude)\n",
    "    \n",
    "london['Latitude'] = Latitude\n",
    "london['Longitude'] = Longitude\n",
    "london.head()"
   ]
  },
  {
   "cell_type": "code",
   "execution_count": null,
   "metadata": {
    "scrolled": true
   },
   "outputs": [],
   "source": [
    "# Drop 'St Pancras' and 'Charing Cross' which are far away from other neighbourhoods\n",
    "london = london.drop(london.index[3])\n",
    "london = london.drop(london.index[11])\n",
    "london.head()"
   ]
  },
  {
   "cell_type": "markdown",
   "metadata": {},
   "source": [
    "### 2.3 Gather the postal codes of downtown Toronto"
   ]
  },
  {
   "cell_type": "code",
   "execution_count": null,
   "metadata": {},
   "outputs": [],
   "source": [
    "# Scrape the wikipedia page\n",
    "source2 = requests.get('https://en.wikipedia.org/wiki/List_of_postal_codes_of_Canada:_M').text\n",
    "soup2 = BeautifulSoup(source2,'lxml')\n",
    "\n",
    "table2 = soup2.find('table',{'class':'wikitable sortable'})"
   ]
  },
  {
   "cell_type": "code",
   "execution_count": null,
   "metadata": {},
   "outputs": [],
   "source": [
    "# Iteration: loop through the rows to get the data\n",
    "PostalCode =[]\n",
    "Borough = []\n",
    "Neighbourhood =[]\n",
    "\n",
    "for row in table2.findAll(\"tr\"):\n",
    "    cells = row.findAll(\"td\")\n",
    "    if len(cells) == 3:\n",
    "        PostalCode.append(cells[0].find(text=True))\n",
    "        Borough.append(cells[1].find(text=True))\n",
    "        Neighbourhood.append(cells[2].find(text=True))\n",
    "        \n",
    "toronto = pd.DataFrame(PostalCode, columns = ['PostalCode'])\n",
    "toronto['Borough'] = Borough\n",
    "toronto['Neighbourhood'] = Neighbourhood\n",
    "toronto.head()"
   ]
  },
  {
   "cell_type": "markdown",
   "metadata": {},
   "source": [
    "#### Clean data"
   ]
  },
  {
   "cell_type": "code",
   "execution_count": null,
   "metadata": {},
   "outputs": [],
   "source": [
    "# 1. Remove cells with a borough that is 'Not assigned'\n",
    "condition = toronto.Borough == 'Not assigned'\n",
    "toronto = toronto.drop(toronto[condition].index, axis = 0, inplace = False)"
   ]
  },
  {
   "cell_type": "code",
   "execution_count": null,
   "metadata": {},
   "outputs": [],
   "source": [
    "# 2. For cells with a 'Not assigned' neighborhood, replace the neighborhood with the borough.\n",
    "toronto['Neighbourhood'] = toronto['Neighbourhood'].str.strip()\n",
    "\n",
    "import numpy as np\n",
    "toronto['Neighbourhood'] = np.where(toronto['Neighbourhood'] =='Not assigned', toronto['Borough'], toronto['Neighbourhood'])"
   ]
  },
  {
   "cell_type": "code",
   "execution_count": null,
   "metadata": {},
   "outputs": [],
   "source": [
    "# 3. Combine Neighbourhood with the same postal code\n",
    "toronto2 = pd.DataFrame(toronto.groupby(['PostalCode','Borough'], as_index = False).agg(', '.join))"
   ]
  },
  {
   "cell_type": "code",
   "execution_count": null,
   "metadata": {},
   "outputs": [],
   "source": [
    "toronto2.head()"
   ]
  },
  {
   "cell_type": "markdown",
   "metadata": {},
   "source": [
    "### 2.4 Get the latitudes and longitudes for each neighbourhood in downtown Toronto"
   ]
  },
  {
   "cell_type": "code",
   "execution_count": null,
   "metadata": {},
   "outputs": [],
   "source": [
    "geodata = pd.read_csv('https://cocl.us/Geospatial_data')"
   ]
  },
  {
   "cell_type": "code",
   "execution_count": null,
   "metadata": {},
   "outputs": [],
   "source": [
    "toronto3 = pd.concat([toronto2, geodata], axis=1).drop('Postal Code',axis = 1)\n",
    "toronto3.head()"
   ]
  },
  {
   "cell_type": "code",
   "execution_count": null,
   "metadata": {},
   "outputs": [],
   "source": [
    "# We will focus on downtown Toronto.\n",
    "dt_trt = toronto3[toronto3['Borough'] == 'Downtown Toronto'].reset_index(drop=True)\n",
    "dt_trt.head()"
   ]
  },
  {
   "cell_type": "markdown",
   "metadata": {},
   "source": [
    "### 2.5 Now I have two cleaned datasets of neighourhoods and their coordinates in central London and downtown Toronto."
   ]
  },
  {
   "cell_type": "markdown",
   "metadata": {},
   "source": [
    "The dataset of central London is called **london**."
   ]
  },
  {
   "cell_type": "code",
   "execution_count": null,
   "metadata": {},
   "outputs": [],
   "source": [
    "london.head()"
   ]
  },
  {
   "cell_type": "markdown",
   "metadata": {},
   "source": [
    "The dataset of downtown Toronto is called **dt_trt**."
   ]
  },
  {
   "cell_type": "code",
   "execution_count": null,
   "metadata": {},
   "outputs": [],
   "source": [
    "dt_trt.head()"
   ]
  },
  {
   "cell_type": "markdown",
   "metadata": {},
   "source": [
    "## 3. Methodology <a name=\"methodology\"></a>"
   ]
  },
  {
   "cell_type": "markdown",
   "metadata": {},
   "source": [
    "After cleaning the data, I will first visualize all neighourhoods in the central London (using **folium map**) to take a closer look at their locations. \n",
    "\n",
    "Using the **Foursquare API**, I will then explore the top 100 venues that are in each neighbourhood within a radius of 500 meters. The coordinate and category of each venue is recorded in a dataset called ***london_venues***. \n",
    "\n",
    "By calculating the average frequency of occurrence of each category, I will identify the top 10 most common venues in each neighborhood, which are recorded in a dataset called ***london_neighborhoods_venues_sorted***.\n",
    "\n",
    "Next, I will employ a machine learning algorithm called **K Means Clustering** to separate the neighbourhoods into three clusters, and visualize them on the map. I will then label each cluster based on its most common venues.\n",
    "\n",
    "The same analysis will be performed on the dataset of downtown toronto to cluster its neighourhoods.\n",
    "\n",
    "Finally, I will compare the neighbourhood clusters in these two cities, identify and discuss any difference/similarity."
   ]
  },
  {
   "cell_type": "markdown",
   "metadata": {},
   "source": [
    "### 3.1 Visualize all neighbourhoods in the western central London"
   ]
  },
  {
   "cell_type": "code",
   "execution_count": null,
   "metadata": {},
   "outputs": [],
   "source": [
    "address = 'London'\n",
    "\n",
    "geolocator = Nominatim(user_agent=\"ld_explorer\")\n",
    "location = geolocator.geocode(address)\n",
    "latitude = location.latitude\n",
    "longitude = location.longitude\n",
    "print('The geograpical coordinate of London are {}, {}.'.format(latitude, longitude))"
   ]
  },
  {
   "cell_type": "code",
   "execution_count": null,
   "metadata": {},
   "outputs": [],
   "source": [
    "import folium\n",
    "\n",
    "# Create map of London using latitude and longitude values\n",
    "map_london = folium.Map(location=[latitude, longitude], zoom_start=10)\n",
    "\n",
    "# Add markers to map\n",
    "for lat, lng, borough, neighborhood in zip(london['Latitude'], london['Longitude'], london['PostTown'], london['Neighbourhood']):\n",
    "    label = '{}, {}'.format(neighborhood, borough)\n",
    "    label = folium.Popup(label, parse_html=True)\n",
    "    folium.CircleMarker(\n",
    "        [lat, lng],\n",
    "        radius=5,\n",
    "        popup=label,\n",
    "        color='blue',\n",
    "        fill=True,\n",
    "        fill_color='#3186cc',\n",
    "        fill_opacity=0.7,\n",
    "        parse_html=False).add_to(map_london)  \n",
    "    \n",
    "map_london"
   ]
  },
  {
   "cell_type": "markdown",
   "metadata": {},
   "source": [
    "### 3.2 Use the Foursquare API to get nearby venues in each neighborhood"
   ]
  },
  {
   "cell_type": "code",
   "execution_count": null,
   "metadata": {},
   "outputs": [],
   "source": [
    "CLIENT_ID = 'U10ZJS1TXTKPWOT5UBLAIVNARBH3AOVVEB3WWYAPBKERMBIG'\n",
    "CLIENT_SECRET = '00RAH1VSAN5HGN5V1XX4ASG5MJR45NPHJRQ3R1LGMTQYK2AG'\n",
    "VERSION = '20181110'"
   ]
  },
  {
   "cell_type": "code",
   "execution_count": null,
   "metadata": {},
   "outputs": [],
   "source": [
    "LIMIT = 100 # limit of number of venues returned by Foursquare API\n",
    "\n",
    "radius = 500 # define radius\n",
    "\n",
    "def getNearbyVenues(names, latitudes, longitudes, radius=500):\n",
    "    \n",
    "    venues_list=[]\n",
    "    for name, lat, lng in zip(names, latitudes, longitudes):\n",
    "        print(name)\n",
    "            \n",
    "        # create the API request URL\n",
    "        url = 'https://api.foursquare.com/v2/venues/explore?&client_id={}&client_secret={}&v={}&ll={},{}&radius={}&limit={}'.format(\n",
    "            CLIENT_ID, \n",
    "            CLIENT_SECRET, \n",
    "            VERSION, \n",
    "            lat, \n",
    "            lng, \n",
    "            radius, \n",
    "            LIMIT)\n",
    "            \n",
    "        # make the GET request\n",
    "        results = requests.get(url).json()[\"response\"]['groups'][0]['items']\n",
    "        \n",
    "        # return only relevant information for each nearby venue\n",
    "        venues_list.append([(\n",
    "            name, \n",
    "            lat, \n",
    "            lng, \n",
    "            v['venue']['name'], \n",
    "            v['venue']['location']['lat'], \n",
    "            v['venue']['location']['lng'],  \n",
    "            v['venue']['categories'][0]['name']) for v in results])\n",
    "\n",
    "    nearby_venues = pd.DataFrame([item for venue_list in venues_list for item in venue_list])\n",
    "    nearby_venues.columns = ['Neighbourhood', \n",
    "                  'Neighbourhood Latitude', \n",
    "                  'Neighbourhood Longitude', \n",
    "                  'Venue', \n",
    "                  'Venue Latitude', \n",
    "                  'Venue Longitude', \n",
    "                  'Venue Category']\n",
    "    \n",
    "    return(nearby_venues)"
   ]
  },
  {
   "cell_type": "code",
   "execution_count": null,
   "metadata": {},
   "outputs": [],
   "source": [
    "london_venues = getNearbyVenues(names = london['Neighbourhood'],\n",
    "                                latitudes = london['Latitude'],\n",
    "                                longitudes = london['Longitude'])       "
   ]
  },
  {
   "cell_type": "code",
   "execution_count": null,
   "metadata": {},
   "outputs": [],
   "source": [
    "london_venues.head()"
   ]
  },
  {
   "cell_type": "code",
   "execution_count": null,
   "metadata": {},
   "outputs": [],
   "source": [
    "# Count how many venues were returned for each neighborhood\n",
    "london_venues.groupby('Neighbourhood').count()"
   ]
  },
  {
   "cell_type": "code",
   "execution_count": null,
   "metadata": {},
   "outputs": [],
   "source": [
    "print('There are {} uniques categories of all the returned venues.'.format(len(london_venues['Venue Category'].unique())))"
   ]
  },
  {
   "cell_type": "markdown",
   "metadata": {},
   "source": [
    "### 3.3 Get the top 10 most common venues in each neighborhood"
   ]
  },
  {
   "cell_type": "code",
   "execution_count": null,
   "metadata": {},
   "outputs": [],
   "source": [
    "london_onehot = pd.get_dummies(london_venues[['Venue Category']], prefix=\"\", prefix_sep=\"\")\n",
    "\n",
    "# add neighborhood column back to dataframe\n",
    "london_onehot['Neighbourhood'] = london_venues['Neighbourhood'] \n",
    "\n",
    "# move neighborhood column to the first column\n",
    "fixed_columns = [london_onehot.columns[-1]] + list(london_onehot.columns[:-1])\n",
    "london_onehot = london_onehot[fixed_columns]\n",
    "\n",
    "london_onehot.head()"
   ]
  },
  {
   "cell_type": "markdown",
   "metadata": {},
   "source": [
    "#### Calculate the average frequency of occurrence of each category"
   ]
  },
  {
   "cell_type": "code",
   "execution_count": null,
   "metadata": {
    "scrolled": true
   },
   "outputs": [],
   "source": [
    "london_grouped = london_onehot.groupby('Neighbourhood').mean().reset_index()\n",
    "london_grouped.head()"
   ]
  },
  {
   "cell_type": "markdown",
   "metadata": {},
   "source": [
    "#### Get the top 10 most common venues  in each neighborhood"
   ]
  },
  {
   "cell_type": "code",
   "execution_count": null,
   "metadata": {},
   "outputs": [],
   "source": [
    "# Sort the venues in descending order\n",
    "\n",
    "def return_most_common_venues(row, num_top_venues):\n",
    "    row_categories = row.iloc[1:]\n",
    "    row_categories_sorted = row_categories.sort_values(ascending=False)\n",
    "    \n",
    "    return row_categories_sorted.index.values[0:num_top_venues]"
   ]
  },
  {
   "cell_type": "code",
   "execution_count": null,
   "metadata": {},
   "outputs": [],
   "source": [
    "import numpy as np\n",
    "\n",
    "num_top_venues = 10\n",
    "\n",
    "indicators = ['st', 'nd', 'rd']\n",
    "\n",
    "# create columns according to number of top venues\n",
    "columns = ['Neighbourhood']\n",
    "for ind in np.arange(num_top_venues):\n",
    "    try:\n",
    "        columns.append('{}{} Most Common Venue'.format(ind+1, indicators[ind]))\n",
    "    except:\n",
    "        columns.append('{}th Most Common Venue'.format(ind+1))\n",
    "\n",
    "# create a new dataframe\n",
    "london_neighborhoods_venues_sorted = pd.DataFrame(columns=columns)\n",
    "london_neighborhoods_venues_sorted['Neighbourhood'] = london_grouped['Neighbourhood']\n",
    "\n",
    "for ind in np.arange(london_grouped.shape[0]):\n",
    "    london_neighborhoods_venues_sorted.iloc[ind, 1:] = return_most_common_venues(london_grouped.iloc[ind, :], num_top_venues)\n",
    "\n",
    "london_neighborhoods_venues_sorted.head()"
   ]
  },
  {
   "cell_type": "markdown",
   "metadata": {},
   "source": [
    "### 3.4 Cluster neighbourhoods in the central London"
   ]
  },
  {
   "cell_type": "code",
   "execution_count": null,
   "metadata": {},
   "outputs": [],
   "source": [
    "from sklearn.cluster import KMeans"
   ]
  },
  {
   "cell_type": "code",
   "execution_count": null,
   "metadata": {},
   "outputs": [],
   "source": [
    "london_grouped_clustering = london_grouped.drop('Neighbourhood', 1)\n",
    "\n",
    "kclusters = 3\n",
    "kmeans = KMeans(n_clusters = kclusters, random_state = 0).fit(london_grouped_clustering)\n",
    "\n",
    "kmeans.labels_[0:10] # cluster labels generated for each row in the dataframe"
   ]
  },
  {
   "cell_type": "code",
   "execution_count": null,
   "metadata": {},
   "outputs": [],
   "source": [
    "# add clustering labels\n",
    "london_neighborhoods_venues_sorted.insert(0, 'Cluster Labels', kmeans.labels_)\n",
    "\n",
    "london_merged = london\n",
    "london_merged = london_merged.join(london_neighborhoods_venues_sorted.set_index('Neighbourhood'), \n",
    "                                   on ='Neighbourhood')\n",
    "\n",
    "london_merged.head()"
   ]
  },
  {
   "cell_type": "markdown",
   "metadata": {},
   "source": [
    "### 3.5 Visualize the clusters in London"
   ]
  },
  {
   "cell_type": "code",
   "execution_count": null,
   "metadata": {},
   "outputs": [],
   "source": [
    "import matplotlib.cm as cm\n",
    "import matplotlib.colors as colors"
   ]
  },
  {
   "cell_type": "code",
   "execution_count": null,
   "metadata": {
    "scrolled": true
   },
   "outputs": [],
   "source": [
    "# create map\n",
    "london_clusters = folium.Map(location=[latitude, longitude], zoom_start=11)\n",
    "\n",
    "# set color scheme for the clusters\n",
    "x = np.arange(kclusters)\n",
    "ys = [i + x + (i*x)**2 for i in range(kclusters)]\n",
    "colors_array = cm.rainbow(np.linspace(0, 1, len(ys)))\n",
    "rainbow = [colors.rgb2hex(i) for i in colors_array]\n",
    "\n",
    "# add markers to the map\n",
    "markers_colors = []\n",
    "for lat, lon, poi, cluster in zip(london_merged['Latitude'],london_merged['Longitude'],london_merged['Neighbourhood'],london_merged['Cluster Labels']):\n",
    "    label = folium.Popup(str(poi) + ' Cluster ' + str(cluster), parse_html=True)\n",
    "    folium.CircleMarker(\n",
    "        [lat, lon],\n",
    "        radius=5,\n",
    "        popup=label,\n",
    "        color=rainbow[cluster-1],\n",
    "        fill=True,\n",
    "        fill_color=rainbow[cluster-1],\n",
    "        fill_opacity=0.7).add_to(london_clusters)\n",
    "       \n",
    "london_clusters"
   ]
  },
  {
   "cell_type": "markdown",
   "metadata": {},
   "source": [
    "### 3.6 Label the clusters in London"
   ]
  },
  {
   "cell_type": "markdown",
   "metadata": {},
   "source": [
    "#### Cluster 1:  Theater"
   ]
  },
  {
   "cell_type": "code",
   "execution_count": null,
   "metadata": {},
   "outputs": [],
   "source": [
    "london_merged.loc[london_merged['Cluster Labels'] == 0, \n",
    "                  london_merged.columns[[1] + list(range(5, london_merged.shape[1]))]]"
   ]
  },
  {
   "cell_type": "markdown",
   "metadata": {},
   "source": [
    "#### Cluster 2: Cafe"
   ]
  },
  {
   "cell_type": "code",
   "execution_count": null,
   "metadata": {},
   "outputs": [],
   "source": [
    "london_merged.loc[london_merged['Cluster Labels'] == 1, \n",
    "                  london_merged.columns[[1] + list(range(5, london_merged.shape[1]))]]"
   ]
  },
  {
   "cell_type": "markdown",
   "metadata": {},
   "source": [
    "#### Cluster 3: Pub"
   ]
  },
  {
   "cell_type": "code",
   "execution_count": null,
   "metadata": {},
   "outputs": [],
   "source": [
    "london_merged.loc[london_merged['Cluster Labels'] == 2, \n",
    "                  london_merged.columns[[1] + list(range(5, london_merged.shape[1]))]]"
   ]
  },
  {
   "cell_type": "markdown",
   "metadata": {},
   "source": [
    "### Now I am going to perform the same analysis on downtown Toronto. \n",
    "### 3.7 Visualize all neighbourhoods in downtown Toronto"
   ]
  },
  {
   "cell_type": "code",
   "execution_count": null,
   "metadata": {},
   "outputs": [],
   "source": [
    "address = 'Downtown Toronto'\n",
    "\n",
    "geolocator = Nominatim(user_agent=\"ny_explorer\")\n",
    "location = geolocator.geocode(address)\n",
    "latitude = location.latitude\n",
    "longitude = location.longitude\n",
    "print('The geograpical coordinate of Downtown Toronto are {}, {}.'.format(latitude, longitude))"
   ]
  },
  {
   "cell_type": "code",
   "execution_count": null,
   "metadata": {},
   "outputs": [],
   "source": [
    "# Create map of Downtown Toronto using latitude and longitude values\n",
    "map_dt_trt = folium.Map(location=[latitude, longitude], zoom_start=11)\n",
    "\n",
    "# add markers to map\n",
    "for lat, lng, label in zip(dt_trt['Latitude'], dt_trt['Longitude'], dt_trt['Neighbourhood']):\n",
    "    label = folium.Popup(label, parse_html=True)\n",
    "    folium.CircleMarker(\n",
    "        [lat, lng],\n",
    "        radius=5,\n",
    "        popup=label,\n",
    "        color='blue',\n",
    "        fill=True,\n",
    "        fill_color='#3186cc',\n",
    "        fill_opacity=0.7,\n",
    "        parse_html=False).add_to(map_dt_trt)  \n",
    "    \n",
    "map_dt_trt"
   ]
  },
  {
   "cell_type": "markdown",
   "metadata": {},
   "source": [
    "### 3.8 Use the Foursquare API to get nearby venues in each neighborhood"
   ]
  },
  {
   "cell_type": "code",
   "execution_count": null,
   "metadata": {},
   "outputs": [],
   "source": [
    "dt_venues = getNearbyVenues(names = dt_trt['Neighbourhood'],\n",
    "                            latitudes = dt_trt['Latitude'],\n",
    "                            longitudes = dt_trt['Longitude'])   "
   ]
  },
  {
   "cell_type": "code",
   "execution_count": null,
   "metadata": {},
   "outputs": [],
   "source": [
    "dt_venues.head()"
   ]
  },
  {
   "cell_type": "code",
   "execution_count": null,
   "metadata": {},
   "outputs": [],
   "source": [
    "# Count how many venues were returned for each neighborhood\n",
    "dt_venues.groupby('Neighbourhood').count()"
   ]
  },
  {
   "cell_type": "code",
   "execution_count": null,
   "metadata": {},
   "outputs": [],
   "source": [
    "print('There are {} uniques categories of all the returned venues.'.format(len(dt_venues['Venue Category'].unique())))"
   ]
  },
  {
   "cell_type": "code",
   "execution_count": null,
   "metadata": {},
   "outputs": [],
   "source": [
    "dt_onehot = pd.get_dummies(dt_venues[['Venue Category']], prefix=\"\", prefix_sep=\"\")\n",
    "\n",
    "# add neighborhood column back to dataframe\n",
    "dt_onehot['Neighbourhood'] = dt_venues['Neighbourhood'] \n",
    "\n",
    "# move neighborhood column to the first column\n",
    "fixed_columns = [dt_onehot.columns[-1]] + list(dt_onehot.columns[:-1])\n",
    "dt_onehot = dt_onehot[fixed_columns]\n",
    "\n",
    "dt_onehot.head()"
   ]
  },
  {
   "cell_type": "markdown",
   "metadata": {},
   "source": [
    "### 3.9 Get the top 10 most common venues in each neighborhood"
   ]
  },
  {
   "cell_type": "markdown",
   "metadata": {},
   "source": [
    "#### Calculate the average frequency of occurrence of each category"
   ]
  },
  {
   "cell_type": "code",
   "execution_count": null,
   "metadata": {},
   "outputs": [],
   "source": [
    "dt_grouped = dt_onehot.groupby('Neighbourhood').mean().reset_index()\n",
    "dt_grouped.head()"
   ]
  },
  {
   "cell_type": "markdown",
   "metadata": {},
   "source": [
    "#### Get the top 10 most common venues  in each neighborhood"
   ]
  },
  {
   "cell_type": "code",
   "execution_count": null,
   "metadata": {},
   "outputs": [],
   "source": [
    "num_top_venues = 5\n",
    "\n",
    "for hood in dt_grouped['Neighbourhood']:\n",
    "    print(\"----\"+hood+\"----\")\n",
    "    temp = dt_grouped[dt_grouped['Neighbourhood'] == hood].T.reset_index()\n",
    "    temp.columns = ['venue','freq']\n",
    "    temp = temp.iloc[1:]\n",
    "    temp['freq'] = temp['freq'].astype(float)\n",
    "    temp = temp.round({'freq': 2})\n",
    "    print(temp.sort_values('freq', ascending=False).reset_index(drop=True).head(num_top_venues))\n",
    "    print('\\n')"
   ]
  },
  {
   "cell_type": "code",
   "execution_count": null,
   "metadata": {},
   "outputs": [],
   "source": [
    "# Sort the venues in descending order\n",
    "\n",
    "def return_most_common_venues(row, num_top_venues):\n",
    "    row_categories = row.iloc[1:]\n",
    "    row_categories_sorted = row_categories.sort_values(ascending=False)\n",
    "    \n",
    "    return row_categories_sorted.index.values[0:num_top_venues]"
   ]
  },
  {
   "cell_type": "code",
   "execution_count": null,
   "metadata": {
    "scrolled": true
   },
   "outputs": [],
   "source": [
    "num_top_venues = 10\n",
    "\n",
    "indicators = ['st', 'nd', 'rd']\n",
    "\n",
    "# create columns according to number of top venues\n",
    "columns = ['Neighbourhood']\n",
    "for ind in np.arange(num_top_venues):\n",
    "    try:\n",
    "        columns.append('{}{} Most Common Venue'.format(ind+1, indicators[ind]))\n",
    "    except:\n",
    "        columns.append('{}th Most Common Venue'.format(ind+1))\n",
    "\n",
    "# create a new dataframe\n",
    "trt_neighborhoods_venues_sorted = pd.DataFrame(columns=columns)\n",
    "trt_neighborhoods_venues_sorted['Neighbourhood'] = dt_grouped['Neighbourhood']\n",
    "\n",
    "for ind in np.arange(dt_grouped.shape[0]):\n",
    "    trt_neighborhoods_venues_sorted.iloc[ind, 1:] = return_most_common_venues(dt_grouped.iloc[ind, :], num_top_venues)\n",
    "\n",
    "trt_neighborhoods_venues_sorted.head()"
   ]
  },
  {
   "cell_type": "markdown",
   "metadata": {},
   "source": [
    "### 3.10 Cluster neighbourhoods in downtown Toronto"
   ]
  },
  {
   "cell_type": "code",
   "execution_count": null,
   "metadata": {},
   "outputs": [],
   "source": [
    "dt_grouped_clustering = dt_grouped.drop('Neighbourhood', 1)\n",
    "\n",
    "kclusters = 6\n",
    "kmeans = KMeans(n_clusters = kclusters, random_state = 0).fit(dt_grouped_clustering)\n",
    "\n",
    "kmeans.labels_[0:10] # cluster labels generated for each row in the dataframe"
   ]
  },
  {
   "cell_type": "code",
   "execution_count": null,
   "metadata": {},
   "outputs": [],
   "source": [
    "# add clustering labels\n",
    "trt_neighborhoods_venues_sorted.insert(0, 'Cluster Labels', kmeans.labels_)\n",
    "\n",
    "dt_merged = dt_trt\n",
    "\n",
    "# merge dt_grouped with dt_trt to add latitude/longitude for each neighborhood\n",
    "dt_merged = dt_merged.join(trt_neighborhoods_venues_sorted.set_index('Neighbourhood'), \n",
    "                           on ='Neighbourhood')\n",
    "\n",
    "dt_merged.head()"
   ]
  },
  {
   "cell_type": "markdown",
   "metadata": {},
   "source": [
    "### 3.11 Visualize the clusters in Toronto"
   ]
  },
  {
   "cell_type": "code",
   "execution_count": null,
   "metadata": {},
   "outputs": [],
   "source": [
    "# create map\n",
    "map_clusters = folium.Map(location=[latitude, longitude], zoom_start=11)\n",
    "\n",
    "# set color scheme for the clusters\n",
    "x = np.arange(kclusters)\n",
    "ys = [i + x + (i*x)**2 for i in range(kclusters)]\n",
    "colors_array = cm.rainbow(np.linspace(0, 1, len(ys)))\n",
    "rainbow = [colors.rgb2hex(i) for i in colors_array]\n",
    "\n",
    "# add markers to the map\n",
    "markers_colors = []\n",
    "for lat, lon, poi, cluster in zip(dt_merged['Latitude'], dt_merged['Longitude'], dt_merged['Neighbourhood'], dt_merged['Cluster Labels']):\n",
    "    label = folium.Popup(str(poi) + ' Cluster ' + str(cluster), parse_html=True)\n",
    "    folium.CircleMarker(\n",
    "        [lat, lon],\n",
    "        radius=5,\n",
    "        popup=label,\n",
    "        color=rainbow[cluster-1],\n",
    "        fill=True,\n",
    "        fill_color=rainbow[cluster-1],\n",
    "        fill_opacity=0.7).add_to(map_clusters)\n",
    "       \n",
    "map_clusters"
   ]
  },
  {
   "cell_type": "markdown",
   "metadata": {},
   "source": [
    "### 3.12 Label the clusters in London"
   ]
  },
  {
   "cell_type": "markdown",
   "metadata": {},
   "source": [
    "#### Cluster 1: Cafe & Restaurant"
   ]
  },
  {
   "cell_type": "code",
   "execution_count": null,
   "metadata": {},
   "outputs": [],
   "source": [
    "dt_merged.loc[dt_merged['Cluster Labels'] == 0, \n",
    "              dt_merged.columns[[1] + list(range(5, dt_merged.shape[1]))]]"
   ]
  },
  {
   "cell_type": "markdown",
   "metadata": {},
   "source": [
    "#### Cluster 2: Park"
   ]
  },
  {
   "cell_type": "code",
   "execution_count": null,
   "metadata": {},
   "outputs": [],
   "source": [
    "dt_merged.loc[dt_merged['Cluster Labels'] == 1, \n",
    "              dt_merged.columns[[1] + list(range(5, dt_merged.shape[1]))]]"
   ]
  },
  {
   "cell_type": "markdown",
   "metadata": {},
   "source": [
    "#### Cluster 3: Grocery Store"
   ]
  },
  {
   "cell_type": "code",
   "execution_count": null,
   "metadata": {},
   "outputs": [],
   "source": [
    "dt_merged.loc[dt_merged['Cluster Labels'] == 2, \n",
    "              dt_merged.columns[[1] + list(range(5, dt_merged.shape[1]))]]"
   ]
  },
  {
   "cell_type": "markdown",
   "metadata": {},
   "source": [
    "#### Cluster 4: Airport "
   ]
  },
  {
   "cell_type": "code",
   "execution_count": null,
   "metadata": {},
   "outputs": [],
   "source": [
    "dt_merged.loc[dt_merged['Cluster Labels'] == 3, \n",
    "              dt_merged.columns[[1] + list(range(5, dt_merged.shape[1]))]]"
   ]
  },
  {
   "cell_type": "markdown",
   "metadata": {},
   "source": [
    "#### Cluster 5: Cafe"
   ]
  },
  {
   "cell_type": "code",
   "execution_count": null,
   "metadata": {},
   "outputs": [],
   "source": [
    "dt_merged.loc[dt_merged['Cluster Labels'] == 4, \n",
    "              dt_merged.columns[[1] + list(range(5, dt_merged.shape[1]))]]"
   ]
  },
  {
   "cell_type": "markdown",
   "metadata": {},
   "source": [
    "#### Cluster 6: Bar"
   ]
  },
  {
   "cell_type": "code",
   "execution_count": null,
   "metadata": {},
   "outputs": [],
   "source": [
    "dt_merged.loc[dt_merged['Cluster Labels'] == 5, \n",
    "              dt_merged.columns[[1] + list(range(5, dt_merged.shape[1]))]]"
   ]
  },
  {
   "cell_type": "markdown",
   "metadata": {},
   "source": [
    "## 4. Results <a name=\"results\"></a>"
   ]
  },
  {
   "cell_type": "markdown",
   "metadata": {},
   "source": [
    "#### Create a table to summarize the categories of 3 clusters in London and 6 clusters in Toronto."
   ]
  },
  {
   "cell_type": "code",
   "execution_count": null,
   "metadata": {},
   "outputs": [],
   "source": [
    "Clusters = [1,2,3,4,5,6]\n",
    "comparison = pd.DataFrame(Clusters, columns = ['Clusters'])\n",
    "\n",
    "London = ['Theater','Cafe','Pub','-','-','-']\n",
    "Toronto = ['Cafe & Restaurant','Park',' Grocery Store','Airport','Cafe','Bar']\n",
    "\n",
    "comparison['London'] = London\n",
    "comparison['Toronto'] = Toronto\n",
    "\n",
    "comparison"
   ]
  },
  {
   "cell_type": "markdown",
   "metadata": {},
   "source": [
    "## 5. Discussion and Conclusion <a name=\"conclusion\"></a>"
   ]
  },
  {
   "cell_type": "markdown",
   "metadata": {},
   "source": [
    "The clustering result reveals that London and Toronto are very similar based on the most common venues in their neighbouhoods. \n",
    "\n",
    "Both cities have a lot of coffee shops, which is probably true in most western countries. Also, both cities have a wide variety of restaurants, ranging from Italian and French to Japanese and Chinese restaurants. This reflects the fact that both cities are culturally diverse. Different cultures are celebrated and embraced in both cities. Therefore, if you are considering studying or working abroad in either London or Toronto, you may not worry too much about the cultural issues. It is very likely that you will find some signs of your own culture, such as a restaurant which provides food from your hometown. \n",
    "\n",
    "However, there does exist some differences between London and Toronto. \n",
    "\n",
    "First, Toronto tends to have more parks than London does. This is a very positive sign, especially for a large crowded city like Toronto. If you are thinking about living abroad for a long period of time, the living environment is an important factor to consider.\n",
    "\n",
    "Second, London tends to have more theatres, exhibits and bookstores than Toronto does. As we all know, London is famous for its rich history, cultures and arts, so I am not surprised to discover this difference. For people who are interested in history or arts, London is an ideal place to experience and learn the European culture. \n",
    "\n",
    "With increasing globalization, major cities around the world tend to become more similar in terms of city designs. However, they still have unique history backgrounds and cultures, which make them different from each other to some extent. For researchers in the field of urban studies, I hope this project can provide you with additional insights into the difference between the European and North American cities. "
   ]
  },
  {
   "cell_type": "code",
   "execution_count": null,
   "metadata": {},
   "outputs": [],
   "source": []
  }
 ],
 "metadata": {
  "kernelspec": {
   "display_name": "Python 3",
   "language": "python",
   "name": "python3"
  },
  "language_info": {
   "codemirror_mode": {
    "name": "ipython",
    "version": 3
   },
   "file_extension": ".py",
   "mimetype": "text/x-python",
   "name": "python",
   "nbconvert_exporter": "python",
   "pygments_lexer": "ipython3",
   "version": "3.6.8"
  }
 },
 "nbformat": 4,
 "nbformat_minor": 2
}
